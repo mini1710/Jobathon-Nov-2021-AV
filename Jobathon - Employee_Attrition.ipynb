{
 "cells": [
  {
   "cell_type": "code",
   "execution_count": 29,
   "metadata": {},
   "outputs": [],
   "source": [
    "import pandas as pd\n",
    "import numpy as np\n",
    "\n",
    "from sklearn.model_selection import train_test_split\n",
    "from sklearn.ensemble import IsolationForest\n",
    "from sklearn.metrics import f1_score\n",
    "from sklearn.svm import OneClassSVM\n",
    "from sklearn.neighbors import LocalOutlierFactor"
   ]
  },
  {
   "cell_type": "code",
   "execution_count": 2,
   "metadata": {},
   "outputs": [],
   "source": [
    "train = pd.read_csv(\"train.csv\")\n",
    "test = pd.read_csv(\"test.csv\")"
   ]
  },
  {
   "cell_type": "markdown",
   "metadata": {},
   "source": [
    "### EMP IDS common to both train and test sets - to isolate the test data"
   ]
  },
  {
   "cell_type": "code",
   "execution_count": 3,
   "metadata": {},
   "outputs": [],
   "source": [
    "common = set(train.Emp_ID.unique()) & set(test.Emp_ID.unique())"
   ]
  },
  {
   "cell_type": "code",
   "execution_count": 4,
   "metadata": {},
   "outputs": [
    {
     "name": "stdout",
     "output_type": "stream",
     "text": [
      "(19104, 13) (741, 1)\n"
     ]
    }
   ],
   "source": [
    "print(train.shape,test.shape)"
   ]
  },
  {
   "cell_type": "markdown",
   "metadata": {},
   "source": [
    "### Feature Processing and Engineering"
   ]
  },
  {
   "cell_type": "code",
   "execution_count": 5,
   "metadata": {},
   "outputs": [],
   "source": [
    "train['MMM-YY'] = pd.to_datetime(train['MMM-YY'],errors='coerce')\n",
    "train['Dateofjoining'] = pd.to_datetime(train['Dateofjoining'],errors='coerce')\n",
    "train['LastWorkingDate'] = pd.to_datetime(train['LastWorkingDate'],errors='coerce')"
   ]
  },
  {
   "cell_type": "markdown",
   "metadata": {},
   "source": [
    "## Deriving Features at EMP ID level\n",
    "### 1. Calculating the Average Business Value \n",
    "### 2. Average Quarterly Rating\n",
    "### 3. Number of reporting instances for each Emp ID "
   ]
  },
  {
   "cell_type": "code",
   "execution_count": 6,
   "metadata": {},
   "outputs": [],
   "source": [
    "sub_train = train[['Emp_ID','Total Business Value']]\n",
    "sub_train_q = train[['Emp_ID','Quarterly Rating']]\n",
    "rows = train[['Emp_ID','MMM-YY']]\n",
    "strain = sub_train.groupby('Emp_ID')['Total Business Value'].mean().reset_index()\n",
    "qtrain = sub_train_q.groupby('Emp_ID')['Quarterly Rating'].mean().reset_index()\n",
    "rows = rows.groupby('Emp_ID')['MMM-YY'].count().reset_index()\n",
    "strain.rename(columns = {'Total Business Value':'Avg Total Business Value'},inplace=True)\n",
    "qtrain.rename(columns = {'Quarterly Rating':'Avg Quarterly Rating'},inplace=True)\n",
    "rows.rename(columns = {'MMM-YY':'entries'},inplace=True)"
   ]
  },
  {
   "cell_type": "code",
   "execution_count": 7,
   "metadata": {},
   "outputs": [],
   "source": [
    "train_final = pd.merge(train,strain,on = 'Emp_ID')\n",
    "train_final = pd.merge(train_final,qtrain,on='Emp_ID')\n",
    "train_final = pd.merge(train_final,rows,on='Emp_ID')"
   ]
  },
  {
   "cell_type": "code",
   "execution_count": 8,
   "metadata": {},
   "outputs": [
    {
     "data": {
      "text/plain": [
       "(19104, 16)"
      ]
     },
     "execution_count": 8,
     "metadata": {},
     "output_type": "execute_result"
    }
   ],
   "source": [
    "train_final.shape"
   ]
  },
  {
   "cell_type": "markdown",
   "metadata": {},
   "source": [
    "### Deriving the Target Column for the Train Data using the LastWorkingDate is null or not"
   ]
  },
  {
   "cell_type": "code",
   "execution_count": 9,
   "metadata": {},
   "outputs": [],
   "source": [
    "train_final = train_final.sort_values(\"MMM-YY\",ascending=True)\n",
    "train_final.drop_duplicates(\"Emp_ID\",keep='last',inplace=True)\n",
    "train_final['target'] = np.where(train_final['LastWorkingDate'].notna(),1,0)"
   ]
  },
  {
   "cell_type": "code",
   "execution_count": 10,
   "metadata": {},
   "outputs": [
    {
     "data": {
      "text/plain": [
       "MMM-YY                        0\n",
       "Emp_ID                        0\n",
       "Age                           0\n",
       "Gender                        0\n",
       "City                          0\n",
       "Education_Level               0\n",
       "Salary                        0\n",
       "Dateofjoining                 0\n",
       "LastWorkingDate             765\n",
       "Joining Designation           0\n",
       "Designation                   0\n",
       "Total Business Value          0\n",
       "Quarterly Rating              0\n",
       "Avg Total Business Value      0\n",
       "Avg Quarterly Rating          0\n",
       "entries                       0\n",
       "target                        0\n",
       "dtype: int64"
      ]
     },
     "execution_count": 10,
     "metadata": {},
     "output_type": "execute_result"
    }
   ],
   "source": [
    "train_final.isna().sum()"
   ]
  },
  {
   "cell_type": "markdown",
   "metadata": {},
   "source": [
    "### Scaling the numerical features - Salary and Avg Total Business Value"
   ]
  },
  {
   "cell_type": "code",
   "execution_count": 11,
   "metadata": {},
   "outputs": [],
   "source": [
    "from sklearn import preprocessing\n",
    "from sklearn.preprocessing import RobustScaler"
   ]
  },
  {
   "cell_type": "code",
   "execution_count": 12,
   "metadata": {},
   "outputs": [],
   "source": [
    "rscaler = RobustScaler( \n",
    "with_centering=True, \n",
    "with_scaling=True, \n",
    "quantile_range=(25.0, 75.0), \n",
    "copy=True, \n",
    ") "
   ]
  },
  {
   "cell_type": "code",
   "execution_count": 13,
   "metadata": {},
   "outputs": [],
   "source": [
    "train_final_sub = rscaler.fit_transform(train_final[['Salary','Avg Total Business Value']])\n",
    "train_final_sub = pd.DataFrame(train_final_sub,columns = ['log_salary','log_bv'])\n",
    "train_final = pd.concat([train_final.reset_index(drop=True),train_final_sub.reset_index(drop=True)],axis=1)"
   ]
  },
  {
   "cell_type": "markdown",
   "metadata": {},
   "source": [
    "### Checking if Designation has changed for employee since joining "
   ]
  },
  {
   "cell_type": "code",
   "execution_count": 14,
   "metadata": {},
   "outputs": [],
   "source": [
    "train_final['Desig_Change'] = np.where((train_final['Joining Designation']<train_final['Designation']),1,0)"
   ]
  },
  {
   "cell_type": "markdown",
   "metadata": {},
   "source": [
    "### Label and one hot encoding Encoding Categorical Features like Gender,Education_Level and City"
   ]
  },
  {
   "cell_type": "code",
   "execution_count": 15,
   "metadata": {},
   "outputs": [],
   "source": [
    "train_final['Gender'] = train_final['Gender'].astype('category')\n",
    "train_final['Education_Level'] = train_final['Education_Level'].astype('category')\n",
    "train_final['City'] = train_final['City'].astype('category')\n",
    "le_city = preprocessing.LabelEncoder()\n",
    "le_ed = preprocessing.LabelEncoder()\n",
    "le_gender = preprocessing.LabelEncoder()\n",
    "train_final['Gender'] = le_gender.fit_transform(train_final['Gender'])\n",
    "train_final['City'] = le_city.fit_transform(train_final['City'])\n",
    "train_final['Education_Level'] = le_ed.fit_transform(train_final['Education_Level'])"
   ]
  },
  {
   "cell_type": "code",
   "execution_count": 16,
   "metadata": {},
   "outputs": [],
   "source": [
    "train_final = pd.get_dummies(train_final,columns=['Gender','City','Education_Level'])"
   ]
  },
  {
   "cell_type": "markdown",
   "metadata": {},
   "source": [
    "### Creating the Training and Testing datasets"
   ]
  },
  {
   "cell_type": "code",
   "execution_count": 17,
   "metadata": {},
   "outputs": [],
   "source": [
    "X = train_final[~(train_final['Emp_ID'].isin(common))]\n",
    "X_test = train_final[train_final['Emp_ID'].isin(common)]"
   ]
  },
  {
   "cell_type": "code",
   "execution_count": 22,
   "metadata": {},
   "outputs": [],
   "source": [
    "y = X['target']\n",
    "X = X.drop(['MMM-YY','Emp_ID','Age','Dateofjoining','LastWorkingDate','target','Total Business Value','Avg Total Business Value','Salary','Quarterly Rating'],axis=1)\n",
    "X_test.sort_values(\"Emp_ID\",inplace=True)\n",
    "X_test_final = X_test.drop(['MMM-YY','Emp_ID','Age','Dateofjoining','LastWorkingDate','target','Total Business Value','Avg Total Business Value','Salary','Quarterly Rating'],axis=1)"
   ]
  },
  {
   "cell_type": "markdown",
   "metadata": {},
   "source": [
    "### The number of employees not going to leave is very less compared to otherwise, hence we need to employ Anomaly Detection techniques as the classes are too far imbalanced to be using upsampling or ensemble techniques which will probably lead to overfitting"
   ]
  },
  {
   "cell_type": "code",
   "execution_count": 25,
   "metadata": {},
   "outputs": [
    {
     "data": {
      "text/plain": [
       "1    1616\n",
       "0      24\n",
       "Name: target, dtype: int64"
      ]
     },
     "execution_count": 25,
     "metadata": {},
     "output_type": "execute_result"
    }
   ],
   "source": [
    "y.value_counts()"
   ]
  },
  {
   "cell_type": "markdown",
   "metadata": {},
   "source": [
    "### Employing One Class SVM"
   ]
  },
  {
   "cell_type": "code",
   "execution_count": 30,
   "metadata": {},
   "outputs": [
    {
     "name": "stdout",
     "output_type": "stream",
     "text": [
      "F1 Score: 0.083\n"
     ]
    }
   ],
   "source": [
    "trainX, testX, trainy, testy = train_test_split(X, y, test_size=0.2, random_state=2, stratify=y)\n",
    "model = OneClassSVM(gamma='auto', nu=0.2,kernel='rbf')\n",
    "trainX = trainX[trainy==1]\n",
    "model.fit(trainX)\n",
    "yhat = model.predict(testX)\n",
    "testy[testy == 0] = -1\n",
    "testy[testy == 1] = 1\n",
    "# checking f1 score\n",
    "score = f1_score(testy, yhat, pos_label=-1)\n",
    "print('F1 Score: %.3f' % score)"
   ]
  },
  {
   "cell_type": "markdown",
   "metadata": {},
   "source": [
    "### Make predictions on the given Test data"
   ]
  },
  {
   "cell_type": "code",
   "execution_count": 31,
   "metadata": {},
   "outputs": [
    {
     "name": "stdout",
     "output_type": "stream",
     "text": [
      "-1    374\n",
      " 1    367\n",
      "Name: 0, dtype: int64\n"
     ]
    }
   ],
   "source": [
    "test_pred = model.predict(X_test_final)\n",
    "print(pd.DataFrame(test_pred)[0].value_counts())\n",
    "test_pred_series = pd.Series(test_pred,index = range(0,len(test_pred)))\n",
    "test_x = pd.Series(X_test['Emp_ID'].values,index = range(0,len(test_pred)))\n",
    "X_test_ = pd.DataFrame({'Emp_ID':test_x,'Target':test_pred_series})\n",
    "X_test_.Target = np.where(X_test_.Target == -1,0,1)"
   ]
  },
  {
   "cell_type": "markdown",
   "metadata": {},
   "source": [
    "### After converting -1 to 0"
   ]
  },
  {
   "cell_type": "code",
   "execution_count": 32,
   "metadata": {},
   "outputs": [
    {
     "data": {
      "text/plain": [
       "0    374\n",
       "1    367\n",
       "Name: Target, dtype: int64"
      ]
     },
     "execution_count": 32,
     "metadata": {},
     "output_type": "execute_result"
    }
   ],
   "source": [
    "X_test_.Target.value_counts()"
   ]
  },
  {
   "cell_type": "code",
   "execution_count": 33,
   "metadata": {},
   "outputs": [],
   "source": [
    "X_test_.to_csv(\"test_predictions.csv\",index=False)"
   ]
  }
 ],
 "metadata": {
  "kernelspec": {
   "display_name": "Python 3",
   "language": "python",
   "name": "python3"
  },
  "language_info": {
   "codemirror_mode": {
    "name": "ipython",
    "version": 3
   },
   "file_extension": ".py",
   "mimetype": "text/x-python",
   "name": "python",
   "nbconvert_exporter": "python",
   "pygments_lexer": "ipython3",
   "version": "3.7.6"
  }
 },
 "nbformat": 4,
 "nbformat_minor": 4
}
